{
  "nbformat": 4,
  "nbformat_minor": 0,
  "metadata": {
    "colab": {
      "provenance": [],
      "authorship_tag": "ABX9TyMiLdLdITAGIfkH8Tc2HzTX",
      "include_colab_link": true
    },
    "kernelspec": {
      "name": "python3",
      "display_name": "Python 3"
    },
    "language_info": {
      "name": "python"
    }
  },
  "cells": [
    {
      "cell_type": "markdown",
      "metadata": {
        "id": "view-in-github",
        "colab_type": "text"
      },
      "source": [
        "<a href=\"https://colab.research.google.com/github/srivallabha11/.readme/blob/main/datascience%20roadmap.ipynb\" target=\"_parent\"><img src=\"https://colab.research.google.com/assets/colab-badge.svg\" alt=\"Open In Colab\"/></a>"
      ]
    },
    {
      "cell_type": "code",
      "source": [
        "class skillroadmap:\n",
        "  def init_(self,learner_name):\n",
        "    self.learner_name=learner_name\n",
        "    self.skills=[]\n",
        "    self.resources={}"
      ],
      "metadata": {
        "id": "5ljYb-FmVPVj"
      },
      "execution_count": 20,
      "outputs": []
    },
    {
      "cell_type": "code",
      "source": [
        "def add_skill(self,skill):\n",
        "  self.skills.append(skill)\n",
        "  self.resources[skill]=[]"
      ],
      "metadata": {
        "id": "WWjUwsjXVoc-"
      },
      "execution_count": 21,
      "outputs": []
    },
    {
      "cell_type": "code",
      "source": [
        "def add_resorces(self,skill,resource):\n",
        "  if skill in self.skills:\n",
        "    self.resources[skill].append(resource)\n",
        "  else:\n",
        "    print(f\"skill '{skill}'not found in the roadmap.\")"
      ],
      "metadata": {
        "id": "xIJlO2bJYXiu"
      },
      "execution_count": 22,
      "outputs": []
    },
    {
      "cell_type": "code",
      "source": [
        "def display_roadmap(self):\n",
        "  print(f\"personalized roadmap for {self.learner_name}:\")\n",
        "  for skill in self.skills:\n",
        "    print(f\"{skill}:\")\n",
        "  for resource in self.resources[skill]:\n",
        "    print(f\"* {resource}\")"
      ],
      "metadata": {
        "id": "Bi1kAF_8Vyiv"
      },
      "execution_count": 23,
      "outputs": []
    },
    {
      "cell_type": "code",
      "source": [
        "learner=skillroadmap(\"Srivallabha\")\n",
        "learner.add_skill(\"python programming\")\n",
        "learner.add_skill(\"data analysis\")\n",
        "learner.add_resource(\"python programming\",\"automate the boring stuff with python\")\n",
        "learner.add_resource(\"data analysis\",\"pandas documentation\")\n",
        "learner.display_roadmap()"
      ],
      "metadata": {
        "colab": {
          "base_uri": "https://localhost:8080/",
          "height": 211
        },
        "id": "m8ss_pE1Zo6o",
        "outputId": "22b72ba6-d95f-4d79-c5b3-1917e2862db1"
      },
      "execution_count": 30,
      "outputs": [
        {
          "output_type": "error",
          "ename": "TypeError",
          "evalue": "skillroadmap() takes no arguments",
          "traceback": [
            "\u001b[0;31m---------------------------------------------------------------------------\u001b[0m",
            "\u001b[0;31mTypeError\u001b[0m                                 Traceback (most recent call last)",
            "\u001b[0;32m<ipython-input-30-692aa61399de>\u001b[0m in \u001b[0;36m<cell line: 0>\u001b[0;34m()\u001b[0m\n\u001b[0;32m----> 1\u001b[0;31m \u001b[0mlearner\u001b[0m\u001b[0;34m=\u001b[0m\u001b[0mskillroadmap\u001b[0m\u001b[0;34m(\u001b[0m\u001b[0;34m\"Srivallabha\"\u001b[0m\u001b[0;34m)\u001b[0m\u001b[0;34m\u001b[0m\u001b[0;34m\u001b[0m\u001b[0m\n\u001b[0m\u001b[1;32m      2\u001b[0m \u001b[0mlearner\u001b[0m\u001b[0;34m.\u001b[0m\u001b[0madd_skill\u001b[0m\u001b[0;34m(\u001b[0m\u001b[0;34m\"python programming\"\u001b[0m\u001b[0;34m)\u001b[0m\u001b[0;34m\u001b[0m\u001b[0;34m\u001b[0m\u001b[0m\n\u001b[1;32m      3\u001b[0m \u001b[0mlearner\u001b[0m\u001b[0;34m.\u001b[0m\u001b[0madd_skill\u001b[0m\u001b[0;34m(\u001b[0m\u001b[0;34m\"data analysis\"\u001b[0m\u001b[0;34m)\u001b[0m\u001b[0;34m\u001b[0m\u001b[0;34m\u001b[0m\u001b[0m\n\u001b[1;32m      4\u001b[0m \u001b[0mlearner\u001b[0m\u001b[0;34m.\u001b[0m\u001b[0madd_resource\u001b[0m\u001b[0;34m(\u001b[0m\u001b[0;34m\"python programming\"\u001b[0m\u001b[0;34m,\u001b[0m\u001b[0;34m\"automate the boring stuff with python\"\u001b[0m\u001b[0;34m)\u001b[0m\u001b[0;34m\u001b[0m\u001b[0;34m\u001b[0m\u001b[0m\n\u001b[1;32m      5\u001b[0m \u001b[0mlearner\u001b[0m\u001b[0;34m.\u001b[0m\u001b[0madd_resource\u001b[0m\u001b[0;34m(\u001b[0m\u001b[0;34m\"data analysis\"\u001b[0m\u001b[0;34m,\u001b[0m\u001b[0;34m\"pandas documentation\"\u001b[0m\u001b[0;34m)\u001b[0m\u001b[0;34m\u001b[0m\u001b[0;34m\u001b[0m\u001b[0m\n",
            "\u001b[0;31mTypeError\u001b[0m: skillroadmap() takes no arguments"
          ]
        }
      ]
    }
  ]
}